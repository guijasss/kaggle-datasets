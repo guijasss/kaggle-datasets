{
 "cells": [
  {
   "cell_type": "code",
   "id": "fe1174da",
   "metadata": {
    "ExecuteTime": {
     "end_time": "2025-06-17T00:43:32.241235Z",
     "start_time": "2025-06-17T00:43:32.238185Z"
    }
   },
   "source": [
    "import pandas as pd\n",
    "from os import path, makedirs\n",
    "\n",
    "pd.set_option('display.max_columns', None)"
   ],
   "outputs": [],
   "execution_count": 14
  },
  {
   "metadata": {
    "ExecuteTime": {
     "end_time": "2025-06-17T00:43:32.293086Z",
     "start_time": "2025-06-17T00:43:32.290862Z"
    }
   },
   "cell_type": "code",
   "source": [
    "tmp_data_directory = path.join(path.dirname('./'), '_tmp')\n",
    "\n",
    "if not path.exists(tmp_data_directory):\n",
    "    makedirs(tmp_data_directory)"
   ],
   "id": "1e637296c5759189",
   "outputs": [],
   "execution_count": 15
  },
  {
   "cell_type": "code",
   "id": "fde9651a",
   "metadata": {
    "ExecuteTime": {
     "end_time": "2025-06-17T00:43:32.347169Z",
     "start_time": "2025-06-17T00:43:32.343899Z"
    }
   },
   "source": [
    "def coalesce(df: pd.DataFrame, cols: list[str]) -> pd.Series:\n",
    "    \"\"\"\n",
    "    Retorna uma Series com o primeiro valor não nulo entre as colunas especificadas.\n",
    "\n",
    "    :param df: DataFrame contendo as colunas.\n",
    "    :param cols: Lista de nomes de colunas para aplicar o coalesce.\n",
    "    :return: Series com o primeiro valor não nulo por linha.\n",
    "    \"\"\"\n",
    "    if not cols:\n",
    "        raise ValueError(\"A lista de colunas não pode estar vazia.\")\n",
    "    \n",
    "    result = df[cols[0]]\n",
    "    for col in cols[1:]:\n",
    "        result = result.combine_first(df[col])\n",
    "    return result\n"
   ],
   "outputs": [],
   "execution_count": 16
  },
  {
   "metadata": {
    "ExecuteTime": {
     "end_time": "2025-06-17T00:43:32.399471Z",
     "start_time": "2025-06-17T00:43:32.396777Z"
    }
   },
   "cell_type": "code",
   "source": [
    "def write_dataframe(df: pd.DataFrame, name: str):\n",
    "    df.to_parquet(f\"./_tmp/{name}.parquet\")"
   ],
   "id": "9540835fc6e4c95",
   "outputs": [],
   "execution_count": 17
  },
  {
   "cell_type": "code",
   "id": "b6693862",
   "metadata": {
    "ExecuteTime": {
     "end_time": "2025-06-17T00:43:32.451040Z",
     "start_time": "2025-06-17T00:43:32.447653Z"
    }
   },
   "source": [
    "def read_columns_txt(path: str) -> list:\n",
    "    return open(path, \"r\").read().splitlines()"
   ],
   "outputs": [],
   "execution_count": 18
  },
  {
   "cell_type": "code",
   "id": "d1c284c8",
   "metadata": {
    "ExecuteTime": {
     "end_time": "2025-06-17T00:43:32.503802Z",
     "start_time": "2025-06-17T00:43:32.500790Z"
    }
   },
   "source": [
    "def get_vcdb(columns: list = None) -> pd.DataFrame:\n",
    "    return pd.read_csv(\n",
    "            \"./data/vcdb.csv\",\n",
    "            low_memory=False,\n",
    "            usecols=columns or read_columns_txt(path=\"columns.txt\")\n",
    "            )"
   ],
   "outputs": [],
   "execution_count": 19
  },
  {
   "cell_type": "code",
   "id": "2821e956",
   "metadata": {
    "ExecuteTime": {
     "end_time": "2025-06-17T00:43:32.559063Z",
     "start_time": "2025-06-17T00:43:32.554326Z"
    }
   },
   "source": [
    "def filter_columns(include_patterns: list[str], exclude_patterns: list[str] = None):\n",
    "    columns = read_columns_txt(\"columns.txt\")\n",
    "\n",
    "    def pattern_to_parts(pattern):\n",
    "        return pattern.split(\".\")\n",
    "\n",
    "    def match(col: str, parts: list[str]) -> bool:\n",
    "        col_parts = col.split(\".\")\n",
    "        if len(col_parts) < len(parts):\n",
    "            return False\n",
    "        return all(p == \"*\" or p == c for p, c in zip(parts, col_parts))\n",
    "\n",
    "    # Incluir colunas que casam com qualquer padrão de inclusão\n",
    "    included = []\n",
    "    for pattern in include_patterns:\n",
    "        parts = pattern_to_parts(pattern)\n",
    "        included += [col for col in columns if match(col, parts)]\n",
    "\n",
    "    included = list(set(included))  # remove duplicatas\n",
    "\n",
    "    # Excluir colunas que casam com qualquer padrão de exclusão\n",
    "    if exclude_patterns:\n",
    "        for pattern in exclude_patterns:\n",
    "            parts = pattern_to_parts(pattern)\n",
    "            included = [col for col in included if not match(col, parts)]\n",
    "\n",
    "    # Sempre incluir incident_id\n",
    "    if \"incident_id\" not in included:\n",
    "        included.append(\"incident_id\")\n",
    "\n",
    "    return included\n"
   ],
   "outputs": [],
   "execution_count": 20
  },
  {
   "cell_type": "code",
   "id": "dae5832f",
   "metadata": {
    "ExecuteTime": {
     "end_time": "2025-06-17T00:43:32.607433Z",
     "start_time": "2025-06-17T00:43:32.603918Z"
    }
   },
   "source": [
    "def undo_onehot_encoding(df: pd.DataFrame, prefix: str) -> pd.Series:\n",
    "    columns = [col for col in df.columns if col.startswith(prefix + \".\")]\n",
    "    def extract_value(row):\n",
    "        for col in columns:\n",
    "            if row[col]:\n",
    "                return col.replace(prefix + \".\", \"\").split(\".\")[-1]\n",
    "        return None\n",
    "    return df.apply(extract_value, axis=1)"
   ],
   "outputs": [],
   "execution_count": 21
  },
  {
   "cell_type": "code",
   "id": "97dcd6f3",
   "metadata": {
    "ExecuteTime": {
     "end_time": "2025-06-17T00:43:32.659357Z",
     "start_time": "2025-06-17T00:43:32.655052Z"
    }
   },
   "source": [
    "def first_true_column(df: pd.DataFrame, cols: list[str]) -> pd.Series:\n",
    "    \"\"\"\n",
    "    Retorna uma Series com o nome da primeira coluna (entre as especificadas)\n",
    "    que contém True em cada linha.\n",
    "\n",
    "    :param df: DataFrame contendo as colunas booleanas.\n",
    "    :param cols: Lista de nomes de colunas booleanas.\n",
    "    :return: Series com o nome da primeira coluna True por linha, ou None.\n",
    "    \"\"\"\n",
    "    def find_first_true(row):\n",
    "        for col in cols:\n",
    "            if row[col]:\n",
    "                return col\n",
    "        return None\n",
    "    \n",
    "    return df[cols].apply(find_first_true, axis=1)"
   ],
   "outputs": [],
   "execution_count": 22
  },
  {
   "cell_type": "markdown",
   "id": "86868014",
   "metadata": {},
   "source": [
    "# Actor"
   ]
  },
  {
   "cell_type": "code",
   "id": "bb280aa3",
   "metadata": {
    "ExecuteTime": {
     "end_time": "2025-06-17T00:43:34.392471Z",
     "start_time": "2025-06-17T00:43:32.708334Z"
    }
   },
   "source": [
    "cols = filter_columns(include_patterns=[\"actor.*.variety.*\", \"actor.*.motive.*\"])\n",
    "actors_varieties = get_vcdb(cols)\n",
    "\n",
    "actor_types = [\"internal\", \"external\", \"partner\"]\n",
    "\n",
    "for actor in actor_types:\n",
    "    actors_varieties[actor] = undo_onehot_encoding(actors_varieties[cols], f\"actor.{actor}\")\n",
    "cols = [s for s in cols if s not in (\"incident_id\")]\n",
    "\n",
    "motive_cols = [col for col in cols if \"motive\" in col]\n",
    "\n",
    "actors_varieties['motive'] = first_true_column(actors_varieties, motive_cols).apply(lambda x: None if x is None else x.split(\".\")[-1])\n",
    "actors_varieties['actor'] = first_true_column(actors_varieties, actor_types)\n",
    "actors_varieties['actor_variety'] = coalesce(actors_varieties, actor_types)\n",
    "\n",
    "actors_varieties.drop(columns=cols + actor_types, inplace=True)\n",
    "\n",
    "write_dataframe(actors_varieties, \"actors_varieties\")\n",
    "\n",
    "print(actors_varieties.shape)\n",
    "print(actors_varieties.dtypes)\n",
    "\n",
    "actors_varieties.head()"
   ],
   "outputs": [
    {
     "name": "stdout",
     "output_type": "stream",
     "text": [
      "(10394, 4)\n",
      "incident_id      object\n",
      "motive           object\n",
      "actor            object\n",
      "actor_variety    object\n",
      "dtype: object\n"
     ]
    },
    {
     "data": {
      "text/plain": [
       "                            incident_id     motive     actor actor_variety\n",
       "0  0001AA7F-C601-424A-B2B8-BE6C9F5164E7    Unknown  internal       Unknown\n",
       "1  0eb22d90-8e87-11ec-a600-657ec2694f8f         NA  internal            NA\n",
       "2  0008DADB-E83D-4278-A19A-CEE01610CF43  Financial  external       Unknown\n",
       "3  000D403E-2DC9-4EA7-9294-BD3938D1C3C7    Unknown   partner       Unknown\n",
       "4  0012CC25-9167-40D8-8FE3-3D0DFD8FB6BB  Financial  external       Unknown"
      ],
      "text/html": [
       "<div>\n",
       "<style scoped>\n",
       "    .dataframe tbody tr th:only-of-type {\n",
       "        vertical-align: middle;\n",
       "    }\n",
       "\n",
       "    .dataframe tbody tr th {\n",
       "        vertical-align: top;\n",
       "    }\n",
       "\n",
       "    .dataframe thead th {\n",
       "        text-align: right;\n",
       "    }\n",
       "</style>\n",
       "<table border=\"1\" class=\"dataframe\">\n",
       "  <thead>\n",
       "    <tr style=\"text-align: right;\">\n",
       "      <th></th>\n",
       "      <th>incident_id</th>\n",
       "      <th>motive</th>\n",
       "      <th>actor</th>\n",
       "      <th>actor_variety</th>\n",
       "    </tr>\n",
       "  </thead>\n",
       "  <tbody>\n",
       "    <tr>\n",
       "      <th>0</th>\n",
       "      <td>0001AA7F-C601-424A-B2B8-BE6C9F5164E7</td>\n",
       "      <td>Unknown</td>\n",
       "      <td>internal</td>\n",
       "      <td>Unknown</td>\n",
       "    </tr>\n",
       "    <tr>\n",
       "      <th>1</th>\n",
       "      <td>0eb22d90-8e87-11ec-a600-657ec2694f8f</td>\n",
       "      <td>NA</td>\n",
       "      <td>internal</td>\n",
       "      <td>NA</td>\n",
       "    </tr>\n",
       "    <tr>\n",
       "      <th>2</th>\n",
       "      <td>0008DADB-E83D-4278-A19A-CEE01610CF43</td>\n",
       "      <td>Financial</td>\n",
       "      <td>external</td>\n",
       "      <td>Unknown</td>\n",
       "    </tr>\n",
       "    <tr>\n",
       "      <th>3</th>\n",
       "      <td>000D403E-2DC9-4EA7-9294-BD3938D1C3C7</td>\n",
       "      <td>Unknown</td>\n",
       "      <td>partner</td>\n",
       "      <td>Unknown</td>\n",
       "    </tr>\n",
       "    <tr>\n",
       "      <th>4</th>\n",
       "      <td>0012CC25-9167-40D8-8FE3-3D0DFD8FB6BB</td>\n",
       "      <td>Financial</td>\n",
       "      <td>external</td>\n",
       "      <td>Unknown</td>\n",
       "    </tr>\n",
       "  </tbody>\n",
       "</table>\n",
       "</div>"
      ]
     },
     "execution_count": 23,
     "metadata": {},
     "output_type": "execute_result"
    }
   ],
   "execution_count": 23
  },
  {
   "cell_type": "markdown",
   "id": "4c52c3fc",
   "metadata": {},
   "source": [
    "# Asset"
   ]
  },
  {
   "cell_type": "code",
   "id": "94864c7e",
   "metadata": {
    "ExecuteTime": {
     "end_time": "2025-06-17T00:43:36.577558Z",
     "start_time": "2025-06-17T00:43:34.443375Z"
    }
   },
   "source": [
    "cols = filter_columns(include_patterns=[\"asset.*\"], exclude_patterns=[\"asset.assets.amount.*\", \"asset.country.*\"])\n",
    "assets = get_vcdb(cols)\n",
    "\n",
    "cols = [s for s in cols if s not in (\"incident_id\", \"asset.total_amount\")]\n",
    "\n",
    "assets[\"asset_cloud\"] = undo_onehot_encoding(assets[cols], \"asset.cloud\")\n",
    "assets[\"asset_hosting\"] = undo_onehot_encoding(assets[cols], \"asset.hosting\")\n",
    "assets[\"asset_management\"] = undo_onehot_encoding(assets[cols], \"asset.management\")\n",
    "assets[\"asset_ownership\"] = undo_onehot_encoding(assets[cols], \"asset.ownership\")\n",
    "assets[\"asset_role\"] = undo_onehot_encoding(assets[cols], \"asset.role\")\n",
    "assets[\"asset_variety\"] = undo_onehot_encoding(assets[cols], \"asset.assets.variety\").apply(lambda x: x.split(\" - \")[-1])\n",
    "\n",
    "assets.drop(columns=cols, inplace=True)\n",
    "write_dataframe(assets, \"assets\")\n",
    "\n",
    "print(assets.shape)\n",
    "print(assets.dtypes)\n",
    "\n",
    "assets.head()"
   ],
   "outputs": [
    {
     "name": "stdout",
     "output_type": "stream",
     "text": [
      "(10394, 8)\n",
      "asset.total_amount    float64\n",
      "incident_id            object\n",
      "asset_cloud            object\n",
      "asset_hosting          object\n",
      "asset_management       object\n",
      "asset_ownership        object\n",
      "asset_role             object\n",
      "asset_variety          object\n",
      "dtype: object\n"
     ]
    },
    {
     "data": {
      "text/plain": [
       "   asset.total_amount                           incident_id  \\\n",
       "0                 NaN  0001AA7F-C601-424A-B2B8-BE6C9F5164E7   \n",
       "1                 1.0  0eb22d90-8e87-11ec-a600-657ec2694f8f   \n",
       "2                 NaN  0008DADB-E83D-4278-A19A-CEE01610CF43   \n",
       "3                 NaN  000D403E-2DC9-4EA7-9294-BD3938D1C3C7   \n",
       "4                 NaN  0012CC25-9167-40D8-8FE3-3D0DFD8FB6BB   \n",
       "\n",
       "               asset_cloud asset_hosting asset_management asset_ownership  \\\n",
       "0                  Unknown          None             None            None   \n",
       "1  External Cloud Asset(s)          None             None            None   \n",
       "2                  Unknown          None             None            None   \n",
       "3                  Unknown          None             None            None   \n",
       "4                  Unknown          None             None            None   \n",
       "\n",
       "  asset_role      asset_variety  \n",
       "0       None           Database  \n",
       "1         IT               File  \n",
       "2       None  Desktop or laptop  \n",
       "3       None         Disk media  \n",
       "4       None    Web application  "
      ],
      "text/html": [
       "<div>\n",
       "<style scoped>\n",
       "    .dataframe tbody tr th:only-of-type {\n",
       "        vertical-align: middle;\n",
       "    }\n",
       "\n",
       "    .dataframe tbody tr th {\n",
       "        vertical-align: top;\n",
       "    }\n",
       "\n",
       "    .dataframe thead th {\n",
       "        text-align: right;\n",
       "    }\n",
       "</style>\n",
       "<table border=\"1\" class=\"dataframe\">\n",
       "  <thead>\n",
       "    <tr style=\"text-align: right;\">\n",
       "      <th></th>\n",
       "      <th>asset.total_amount</th>\n",
       "      <th>incident_id</th>\n",
       "      <th>asset_cloud</th>\n",
       "      <th>asset_hosting</th>\n",
       "      <th>asset_management</th>\n",
       "      <th>asset_ownership</th>\n",
       "      <th>asset_role</th>\n",
       "      <th>asset_variety</th>\n",
       "    </tr>\n",
       "  </thead>\n",
       "  <tbody>\n",
       "    <tr>\n",
       "      <th>0</th>\n",
       "      <td>NaN</td>\n",
       "      <td>0001AA7F-C601-424A-B2B8-BE6C9F5164E7</td>\n",
       "      <td>Unknown</td>\n",
       "      <td>None</td>\n",
       "      <td>None</td>\n",
       "      <td>None</td>\n",
       "      <td>None</td>\n",
       "      <td>Database</td>\n",
       "    </tr>\n",
       "    <tr>\n",
       "      <th>1</th>\n",
       "      <td>1.0</td>\n",
       "      <td>0eb22d90-8e87-11ec-a600-657ec2694f8f</td>\n",
       "      <td>External Cloud Asset(s)</td>\n",
       "      <td>None</td>\n",
       "      <td>None</td>\n",
       "      <td>None</td>\n",
       "      <td>IT</td>\n",
       "      <td>File</td>\n",
       "    </tr>\n",
       "    <tr>\n",
       "      <th>2</th>\n",
       "      <td>NaN</td>\n",
       "      <td>0008DADB-E83D-4278-A19A-CEE01610CF43</td>\n",
       "      <td>Unknown</td>\n",
       "      <td>None</td>\n",
       "      <td>None</td>\n",
       "      <td>None</td>\n",
       "      <td>None</td>\n",
       "      <td>Desktop or laptop</td>\n",
       "    </tr>\n",
       "    <tr>\n",
       "      <th>3</th>\n",
       "      <td>NaN</td>\n",
       "      <td>000D403E-2DC9-4EA7-9294-BD3938D1C3C7</td>\n",
       "      <td>Unknown</td>\n",
       "      <td>None</td>\n",
       "      <td>None</td>\n",
       "      <td>None</td>\n",
       "      <td>None</td>\n",
       "      <td>Disk media</td>\n",
       "    </tr>\n",
       "    <tr>\n",
       "      <th>4</th>\n",
       "      <td>NaN</td>\n",
       "      <td>0012CC25-9167-40D8-8FE3-3D0DFD8FB6BB</td>\n",
       "      <td>Unknown</td>\n",
       "      <td>None</td>\n",
       "      <td>None</td>\n",
       "      <td>None</td>\n",
       "      <td>None</td>\n",
       "      <td>Web application</td>\n",
       "    </tr>\n",
       "  </tbody>\n",
       "</table>\n",
       "</div>"
      ]
     },
     "execution_count": 24,
     "metadata": {},
     "output_type": "execute_result"
    }
   ],
   "execution_count": 24
  },
  {
   "cell_type": "markdown",
   "id": "99962ac5",
   "metadata": {},
   "source": [
    "# Action\n"
   ]
  },
  {
   "cell_type": "code",
   "id": "9dfdb161",
   "metadata": {
    "ExecuteTime": {
     "end_time": "2025-06-17T00:43:40.457047Z",
     "start_time": "2025-06-17T00:43:36.671743Z"
    }
   },
   "source": [
    "cols = filter_columns(include_patterns=[\"action.*.variety.*\"])\n",
    "action_varieties = get_vcdb(cols)\n",
    "\n",
    "action_types = [\"environmental\", \"error\", \"hacking\", \"malware\", \"misuse\", \"physical\", \"social\"]\n",
    "    \n",
    "for action in action_types:\n",
    "    action_varieties[action] = undo_onehot_encoding(action_varieties[cols], f\"action.{action}\")\n",
    "cols = [s for s in cols if s not in (\"incident_id\")]\n",
    "\n",
    "action_varieties.drop(columns=cols, inplace=True)\n",
    "\n",
    "action_varieties['action'] = first_true_column(action_varieties, action_types)\n",
    "action_varieties['action_variety'] = coalesce(action_varieties, action_types)\n",
    "action_varieties.drop(columns=action_types, inplace=True)\n",
    "\n",
    "write_dataframe(action_varieties, \"action_varieties\")\n",
    "print(action_varieties.shape)\n",
    "print(action_varieties.dtypes)\n",
    "action_varieties.head()"
   ],
   "outputs": [
    {
     "name": "stdout",
     "output_type": "stream",
     "text": [
      "(10394, 3)\n",
      "incident_id       object\n",
      "action            object\n",
      "action_variety    object\n",
      "dtype: object\n"
     ]
    },
    {
     "data": {
      "text/plain": [
       "                            incident_id    action    action_variety\n",
       "0  0001AA7F-C601-424A-B2B8-BE6C9F5164E7    misuse   Privilege abuse\n",
       "1  0eb22d90-8e87-11ec-a600-657ec2694f8f     error  Misconfiguration\n",
       "2  0008DADB-E83D-4278-A19A-CEE01610CF43  physical             Theft\n",
       "3  000D403E-2DC9-4EA7-9294-BD3938D1C3C7     error              Loss\n",
       "4  0012CC25-9167-40D8-8FE3-3D0DFD8FB6BB   hacking      Exploit vuln"
      ],
      "text/html": [
       "<div>\n",
       "<style scoped>\n",
       "    .dataframe tbody tr th:only-of-type {\n",
       "        vertical-align: middle;\n",
       "    }\n",
       "\n",
       "    .dataframe tbody tr th {\n",
       "        vertical-align: top;\n",
       "    }\n",
       "\n",
       "    .dataframe thead th {\n",
       "        text-align: right;\n",
       "    }\n",
       "</style>\n",
       "<table border=\"1\" class=\"dataframe\">\n",
       "  <thead>\n",
       "    <tr style=\"text-align: right;\">\n",
       "      <th></th>\n",
       "      <th>incident_id</th>\n",
       "      <th>action</th>\n",
       "      <th>action_variety</th>\n",
       "    </tr>\n",
       "  </thead>\n",
       "  <tbody>\n",
       "    <tr>\n",
       "      <th>0</th>\n",
       "      <td>0001AA7F-C601-424A-B2B8-BE6C9F5164E7</td>\n",
       "      <td>misuse</td>\n",
       "      <td>Privilege abuse</td>\n",
       "    </tr>\n",
       "    <tr>\n",
       "      <th>1</th>\n",
       "      <td>0eb22d90-8e87-11ec-a600-657ec2694f8f</td>\n",
       "      <td>error</td>\n",
       "      <td>Misconfiguration</td>\n",
       "    </tr>\n",
       "    <tr>\n",
       "      <th>2</th>\n",
       "      <td>0008DADB-E83D-4278-A19A-CEE01610CF43</td>\n",
       "      <td>physical</td>\n",
       "      <td>Theft</td>\n",
       "    </tr>\n",
       "    <tr>\n",
       "      <th>3</th>\n",
       "      <td>000D403E-2DC9-4EA7-9294-BD3938D1C3C7</td>\n",
       "      <td>error</td>\n",
       "      <td>Loss</td>\n",
       "    </tr>\n",
       "    <tr>\n",
       "      <th>4</th>\n",
       "      <td>0012CC25-9167-40D8-8FE3-3D0DFD8FB6BB</td>\n",
       "      <td>hacking</td>\n",
       "      <td>Exploit vuln</td>\n",
       "    </tr>\n",
       "  </tbody>\n",
       "</table>\n",
       "</div>"
      ]
     },
     "execution_count": 25,
     "metadata": {},
     "output_type": "execute_result"
    }
   ],
   "execution_count": 25
  },
  {
   "cell_type": "code",
   "id": "cf727dfe",
   "metadata": {
    "ExecuteTime": {
     "end_time": "2025-06-17T00:43:49.144692Z",
     "start_time": "2025-06-17T00:43:40.540981Z"
    }
   },
   "source": [
    "cols = filter_columns(include_patterns=[\"*.country.*\", \"actor.external.country.*\"])\n",
    "location = get_vcdb(cols)\n",
    "\n",
    "cols = [s for s in cols if s != \"incident_id\"]\n",
    "\n",
    "location[\"external_actor_country\"] = undo_onehot_encoding(location[cols], \"actor.external.country\")\n",
    "location[\"asset_country\"] = undo_onehot_encoding(location[cols], \"asset\")\n",
    "location[\"victim_country\"] = undo_onehot_encoding(location[cols], \"victim\")\n",
    "\n",
    "location.drop(columns=cols, inplace=True)\n",
    "\n",
    "write_dataframe(location, \"location\")\n",
    "print(location.shape)\n",
    "print(location.dtypes)\n",
    "\n",
    "location.head()"
   ],
   "outputs": [
    {
     "name": "stdout",
     "output_type": "stream",
     "text": [
      "(10394, 4)\n",
      "incident_id               object\n",
      "external_actor_country    object\n",
      "asset_country             object\n",
      "victim_country            object\n",
      "dtype: object\n"
     ]
    },
    {
     "data": {
      "text/plain": [
       "                            incident_id external_actor_country asset_country  \\\n",
       "0  0001AA7F-C601-424A-B2B8-BE6C9F5164E7                   None          None   \n",
       "1  0eb22d90-8e87-11ec-a600-657ec2694f8f                   None          None   \n",
       "2  0008DADB-E83D-4278-A19A-CEE01610CF43                Unknown          None   \n",
       "3  000D403E-2DC9-4EA7-9294-BD3938D1C3C7                   None          None   \n",
       "4  0012CC25-9167-40D8-8FE3-3D0DFD8FB6BB                Unknown          None   \n",
       "\n",
       "  victim_country  \n",
       "0             US  \n",
       "1             ES  \n",
       "2             US  \n",
       "3             US  \n",
       "4             GB  "
      ],
      "text/html": [
       "<div>\n",
       "<style scoped>\n",
       "    .dataframe tbody tr th:only-of-type {\n",
       "        vertical-align: middle;\n",
       "    }\n",
       "\n",
       "    .dataframe tbody tr th {\n",
       "        vertical-align: top;\n",
       "    }\n",
       "\n",
       "    .dataframe thead th {\n",
       "        text-align: right;\n",
       "    }\n",
       "</style>\n",
       "<table border=\"1\" class=\"dataframe\">\n",
       "  <thead>\n",
       "    <tr style=\"text-align: right;\">\n",
       "      <th></th>\n",
       "      <th>incident_id</th>\n",
       "      <th>external_actor_country</th>\n",
       "      <th>asset_country</th>\n",
       "      <th>victim_country</th>\n",
       "    </tr>\n",
       "  </thead>\n",
       "  <tbody>\n",
       "    <tr>\n",
       "      <th>0</th>\n",
       "      <td>0001AA7F-C601-424A-B2B8-BE6C9F5164E7</td>\n",
       "      <td>None</td>\n",
       "      <td>None</td>\n",
       "      <td>US</td>\n",
       "    </tr>\n",
       "    <tr>\n",
       "      <th>1</th>\n",
       "      <td>0eb22d90-8e87-11ec-a600-657ec2694f8f</td>\n",
       "      <td>None</td>\n",
       "      <td>None</td>\n",
       "      <td>ES</td>\n",
       "    </tr>\n",
       "    <tr>\n",
       "      <th>2</th>\n",
       "      <td>0008DADB-E83D-4278-A19A-CEE01610CF43</td>\n",
       "      <td>Unknown</td>\n",
       "      <td>None</td>\n",
       "      <td>US</td>\n",
       "    </tr>\n",
       "    <tr>\n",
       "      <th>3</th>\n",
       "      <td>000D403E-2DC9-4EA7-9294-BD3938D1C3C7</td>\n",
       "      <td>None</td>\n",
       "      <td>None</td>\n",
       "      <td>US</td>\n",
       "    </tr>\n",
       "    <tr>\n",
       "      <th>4</th>\n",
       "      <td>0012CC25-9167-40D8-8FE3-3D0DFD8FB6BB</td>\n",
       "      <td>Unknown</td>\n",
       "      <td>None</td>\n",
       "      <td>GB</td>\n",
       "    </tr>\n",
       "  </tbody>\n",
       "</table>\n",
       "</div>"
      ]
     },
     "execution_count": 26,
     "metadata": {},
     "output_type": "execute_result"
    }
   ],
   "execution_count": 26
  },
  {
   "cell_type": "code",
   "id": "b193128e",
   "metadata": {
    "ExecuteTime": {
     "end_time": "2025-06-17T00:43:50.353645Z",
     "start_time": "2025-06-17T00:43:49.245047Z"
    }
   },
   "source": [
    "timeline = get_vcdb([\"incident_id\", \"timeline.incident.year\", \"timeline.incident.month\", \"timeline.incident.day\"])\n",
    "timeline.rename({x: x.split(\".\")[-1] for x in timeline.columns}, inplace=True, axis=1)\n",
    "timeline[\"day\"] = timeline[\"day\"].astype(\"Int8\")\n",
    "timeline[\"month\"] = timeline[\"month\"].astype(\"Int8\")\n",
    "\n",
    "write_dataframe(timeline, \"timeline\")\n",
    "print(timeline.shape)\n",
    "print(timeline.dtypes)\n",
    "\n",
    "timeline.head()"
   ],
   "outputs": [
    {
     "name": "stdout",
     "output_type": "stream",
     "text": [
      "(10394, 4)\n",
      "incident_id    object\n",
      "day              Int8\n",
      "month            Int8\n",
      "year            int64\n",
      "dtype: object\n"
     ]
    },
    {
     "data": {
      "text/plain": [
       "                            incident_id   day  month  year\n",
       "0  0001AA7F-C601-424A-B2B8-BE6C9F5164E7     9      4  2010\n",
       "1  0eb22d90-8e87-11ec-a600-657ec2694f8f  <NA>   <NA>  2020\n",
       "2  0008DADB-E83D-4278-A19A-CEE01610CF43  <NA>   <NA>  2014\n",
       "3  000D403E-2DC9-4EA7-9294-BD3938D1C3C7  <NA>   <NA>  2014\n",
       "4  0012CC25-9167-40D8-8FE3-3D0DFD8FB6BB  <NA>   <NA>  2012"
      ],
      "text/html": [
       "<div>\n",
       "<style scoped>\n",
       "    .dataframe tbody tr th:only-of-type {\n",
       "        vertical-align: middle;\n",
       "    }\n",
       "\n",
       "    .dataframe tbody tr th {\n",
       "        vertical-align: top;\n",
       "    }\n",
       "\n",
       "    .dataframe thead th {\n",
       "        text-align: right;\n",
       "    }\n",
       "</style>\n",
       "<table border=\"1\" class=\"dataframe\">\n",
       "  <thead>\n",
       "    <tr style=\"text-align: right;\">\n",
       "      <th></th>\n",
       "      <th>incident_id</th>\n",
       "      <th>day</th>\n",
       "      <th>month</th>\n",
       "      <th>year</th>\n",
       "    </tr>\n",
       "  </thead>\n",
       "  <tbody>\n",
       "    <tr>\n",
       "      <th>0</th>\n",
       "      <td>0001AA7F-C601-424A-B2B8-BE6C9F5164E7</td>\n",
       "      <td>9</td>\n",
       "      <td>4</td>\n",
       "      <td>2010</td>\n",
       "    </tr>\n",
       "    <tr>\n",
       "      <th>1</th>\n",
       "      <td>0eb22d90-8e87-11ec-a600-657ec2694f8f</td>\n",
       "      <td>&lt;NA&gt;</td>\n",
       "      <td>&lt;NA&gt;</td>\n",
       "      <td>2020</td>\n",
       "    </tr>\n",
       "    <tr>\n",
       "      <th>2</th>\n",
       "      <td>0008DADB-E83D-4278-A19A-CEE01610CF43</td>\n",
       "      <td>&lt;NA&gt;</td>\n",
       "      <td>&lt;NA&gt;</td>\n",
       "      <td>2014</td>\n",
       "    </tr>\n",
       "    <tr>\n",
       "      <th>3</th>\n",
       "      <td>000D403E-2DC9-4EA7-9294-BD3938D1C3C7</td>\n",
       "      <td>&lt;NA&gt;</td>\n",
       "      <td>&lt;NA&gt;</td>\n",
       "      <td>2014</td>\n",
       "    </tr>\n",
       "    <tr>\n",
       "      <th>4</th>\n",
       "      <td>0012CC25-9167-40D8-8FE3-3D0DFD8FB6BB</td>\n",
       "      <td>&lt;NA&gt;</td>\n",
       "      <td>&lt;NA&gt;</td>\n",
       "      <td>2012</td>\n",
       "    </tr>\n",
       "  </tbody>\n",
       "</table>\n",
       "</div>"
      ]
     },
     "execution_count": 27,
     "metadata": {},
     "output_type": "execute_result"
    }
   ],
   "execution_count": 27
  },
  {
   "cell_type": "markdown",
   "id": "1f60a360",
   "metadata": {},
   "source": [
    "# Misc"
   ]
  },
  {
   "cell_type": "markdown",
   "id": "297dbad3",
   "metadata": {},
   "source": [
    "## Action Notes"
   ]
  },
  {
   "cell_type": "code",
   "id": "b5a7f1b4",
   "metadata": {
    "ExecuteTime": {
     "end_time": "2025-06-17T00:43:52.389497Z",
     "start_time": "2025-06-17T00:43:50.460945Z"
    }
   },
   "source": [
    "cols = filter_columns(include_patterns=[\"action.*.notes\"])\n",
    "action_notes = get_vcdb(cols)\n",
    "\n",
    "cols.remove(\"incident_id\")\n",
    "action_notes[\"action_notes\"] = coalesce(action_notes, cols)\n",
    "\n",
    "action_notes.drop(cols, axis=1, inplace=True)\n",
    "write_dataframe(action_notes, \"action_notes\")\n",
    "\n",
    "print(action_notes.shape)\n",
    "print(action_notes.dtypes)\n",
    "action_notes[~action_notes[\"action_notes\"].isnull()].head()"
   ],
   "outputs": [
    {
     "name": "stdout",
     "output_type": "stream",
     "text": [
      "(10394, 2)\n",
      "incident_id     object\n",
      "action_notes    object\n",
      "dtype: object\n"
     ]
    },
    {
     "data": {
      "text/plain": [
       "                             incident_id  \\\n",
       "11  39B1FCE8-E94B-49DD-98AF-8B8E75F52F96   \n",
       "13  E12ACA81-EFCF-4096-8D2D-4D54E9898077   \n",
       "14  d2f15020-8c28-11e7-944b-11adeb58a7b0   \n",
       "20  F1CD56BA-3C76-4F21-B738-4E806BE33542   \n",
       "26  91830E0B-8896-413F-A921-84915E52B122   \n",
       "\n",
       "                                         action_notes  \n",
       "11  it was as easy as using a commonly used passwo...  \n",
       "13  \\nVERIS 1_3_7 to 1_4_0 Migration script, to fi...  \n",
       "14  \\nVERIS 1_3_7 to 1_4_0 Migration script to rem...  \n",
       "20  \\nVERIS 1_3_7 to 1_4_0 Migration script, to fi...  \n",
       "26  \\nVERIS 1_3_7 to 1_4_0 Migration script, to fi...  "
      ],
      "text/html": [
       "<div>\n",
       "<style scoped>\n",
       "    .dataframe tbody tr th:only-of-type {\n",
       "        vertical-align: middle;\n",
       "    }\n",
       "\n",
       "    .dataframe tbody tr th {\n",
       "        vertical-align: top;\n",
       "    }\n",
       "\n",
       "    .dataframe thead th {\n",
       "        text-align: right;\n",
       "    }\n",
       "</style>\n",
       "<table border=\"1\" class=\"dataframe\">\n",
       "  <thead>\n",
       "    <tr style=\"text-align: right;\">\n",
       "      <th></th>\n",
       "      <th>incident_id</th>\n",
       "      <th>action_notes</th>\n",
       "    </tr>\n",
       "  </thead>\n",
       "  <tbody>\n",
       "    <tr>\n",
       "      <th>11</th>\n",
       "      <td>39B1FCE8-E94B-49DD-98AF-8B8E75F52F96</td>\n",
       "      <td>it was as easy as using a commonly used passwo...</td>\n",
       "    </tr>\n",
       "    <tr>\n",
       "      <th>13</th>\n",
       "      <td>E12ACA81-EFCF-4096-8D2D-4D54E9898077</td>\n",
       "      <td>\\nVERIS 1_3_7 to 1_4_0 Migration script, to fi...</td>\n",
       "    </tr>\n",
       "    <tr>\n",
       "      <th>14</th>\n",
       "      <td>d2f15020-8c28-11e7-944b-11adeb58a7b0</td>\n",
       "      <td>\\nVERIS 1_3_7 to 1_4_0 Migration script to rem...</td>\n",
       "    </tr>\n",
       "    <tr>\n",
       "      <th>20</th>\n",
       "      <td>F1CD56BA-3C76-4F21-B738-4E806BE33542</td>\n",
       "      <td>\\nVERIS 1_3_7 to 1_4_0 Migration script, to fi...</td>\n",
       "    </tr>\n",
       "    <tr>\n",
       "      <th>26</th>\n",
       "      <td>91830E0B-8896-413F-A921-84915E52B122</td>\n",
       "      <td>\\nVERIS 1_3_7 to 1_4_0 Migration script, to fi...</td>\n",
       "    </tr>\n",
       "  </tbody>\n",
       "</table>\n",
       "</div>"
      ]
     },
     "execution_count": 28,
     "metadata": {},
     "output_type": "execute_result"
    }
   ],
   "execution_count": 28
  },
  {
   "cell_type": "markdown",
   "id": "5baac1f9",
   "metadata": {},
   "source": [
    "# Dataframe Builder"
   ]
  }
 ],
 "metadata": {
  "kernelspec": {
   "display_name": "venv",
   "language": "python",
   "name": "python3"
  },
  "language_info": {
   "codemirror_mode": {
    "name": "ipython",
    "version": 3
   },
   "file_extension": ".py",
   "mimetype": "text/x-python",
   "name": "python",
   "nbconvert_exporter": "python",
   "pygments_lexer": "ipython3",
   "version": "3.12.3"
  }
 },
 "nbformat": 4,
 "nbformat_minor": 5
}
